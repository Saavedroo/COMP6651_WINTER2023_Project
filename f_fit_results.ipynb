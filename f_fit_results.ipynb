{
 "cells": [
  {
   "cell_type": "code",
   "execution_count": 1,
   "metadata": {
    "executionInfo": {
     "elapsed": 501,
     "status": "ok",
     "timestamp": 1681495379080,
     "user": {
      "displayName": "Reza Talaa",
      "userId": "01870658735563521181"
     },
     "user_tz": 240
    },
    "id": "L68NZ0CKJ2D0"
   },
   "outputs": [],
   "source": [
    "import networkx as nx\n",
    "import numpy as np\n",
    "import random\n",
    "import matplotlib.pyplot as plt\n",
    "import pickle\n",
    "from tqdm import tqdm\n",
    "import time"
   ]
  },
  {
   "cell_type": "markdown",
   "metadata": {
    "id": "G5IvQV3NUZEe"
   },
   "source": [
    "# Algorithm and test"
   ]
  },
  {
   "cell_type": "code",
   "execution_count": 2,
   "metadata": {
    "executionInfo": {
     "elapsed": 9,
     "status": "ok",
     "timestamp": 1681495379849,
     "user": {
      "displayName": "Reza Talaa",
      "userId": "01870658735563521181"
     },
     "user_tz": 240
    },
    "id": "465UMioeF5O3"
   },
   "outputs": [],
   "source": [
    "def reveal_neighbors(adj_list, i):\n",
    "  neighbors = []\n",
    "  for neigh in adj_list[i]:\n",
    "    if neigh < i:\n",
    "      neighbors.append(neigh)\n",
    "  return neighbors"
   ]
  },
  {
   "cell_type": "code",
   "execution_count": 3,
   "metadata": {
    "executionInfo": {
     "elapsed": 10,
     "status": "ok",
     "timestamp": 1681495379850,
     "user": {
      "displayName": "Reza Talaa",
      "userId": "01870658735563521181"
     },
     "user_tz": 240
    },
    "id": "Oke2K5EvcufY"
   },
   "outputs": [],
   "source": [
    "def find_minimum_integer_not_in_list(lst):\n",
    "    s = set(lst)\n",
    "    i = 1\n",
    "    while i in s:\n",
    "        i += 1\n",
    "    return i"
   ]
  },
  {
   "cell_type": "code",
   "execution_count": 4,
   "metadata": {
    "executionInfo": {
     "elapsed": 9,
     "status": "ok",
     "timestamp": 1681495379850,
     "user": {
      "displayName": "Reza Talaa",
      "userId": "01870658735563521181"
     },
     "user_tz": 240
    },
    "id": "6X_AgwKfHJqu"
   },
   "outputs": [],
   "source": [
    "def first_fit(G):\n",
    "  n = len(G.nodes())\n",
    "  adj_list = nx.to_dict_of_lists(G)\n",
    "  color_list = []\n",
    "  for i in range(n):\n",
    "    neighbors_colors = []\n",
    "    neighbors_list_i = reveal_neighbors(adj_list,i)\n",
    "    for j in neighbors_list_i:\n",
    "      neighbors_colors.append(color_list[j])\n",
    "    xx = find_minimum_integer_not_in_list(neighbors_colors)\n",
    "    color_list.append(xx)\n",
    "  return color_list"
   ]
  },
  {
   "cell_type": "code",
   "execution_count": 5,
   "metadata": {
    "executionInfo": {
     "elapsed": 9,
     "status": "ok",
     "timestamp": 1681495379850,
     "user": {
      "displayName": "Reza Talaa",
      "userId": "01870658735563521181"
     },
     "user_tz": 240
    },
    "id": "90VlZEbT7n02"
   },
   "outputs": [],
   "source": [
    "def load_list_of_dicts(filename, create_using=nx.Graph):\n",
    "    with open(filename, 'rb') as f:\n",
    "        list_of_dicts = pickle.load(f)\n",
    "    graphs = [create_using(graph) for graph in list_of_dicts]\n",
    "    return graphs"
   ]
  },
  {
   "cell_type": "markdown",
   "metadata": {},
   "source": [
    "Constant parameters"
   ]
  },
  {
   "cell_type": "code",
   "execution_count": 6,
   "metadata": {},
   "outputs": [],
   "source": [
    "N = 100\n",
    "nb_vertices = [50, 100, 200, 400, 800]"
   ]
  },
  {
   "cell_type": "markdown",
   "metadata": {},
   "source": [
    "k = 2"
   ]
  },
  {
   "cell_type": "code",
   "execution_count": 7,
   "metadata": {
    "executionInfo": {
     "elapsed": 10,
     "status": "ok",
     "timestamp": 1681495379851,
     "user": {
      "displayName": "Reza Talaa",
      "userId": "01870658735563521181"
     },
     "user_tz": 240
    },
    "id": "h9qeV-S7HODA",
    "scrolled": false
   },
   "outputs": [
    {
     "name": "stdout",
     "output_type": "stream",
     "text": [
      "\n",
      "################################\n",
      "Running on 50 vertices\n",
      "Graphs imported in 0.144s\n",
      "50 vertices done in 0.035s. Mean: 1.43 --- STD: 0.39\n",
      "\n",
      "################################\n",
      "Running on 100 vertices\n",
      "Graphs imported in 0.412s\n",
      "100 vertices done in 0.119s. Mean: 1.48 --- STD: 0.38\n",
      "\n",
      "################################\n",
      "Running on 200 vertices\n",
      "Graphs imported in 1.714s\n",
      "200 vertices done in 0.409s. Mean: 1.51 --- STD: 0.39\n",
      "\n",
      "################################\n",
      "Running on 400 vertices\n",
      "Graphs imported in 6.983s\n",
      "400 vertices done in 1.691s. Mean: 1.52 --- STD: 0.43\n",
      "\n",
      "################################\n",
      "Running on 800 vertices\n",
      "Graphs imported in 31.731s\n",
      "800 vertices done in 7.206s. Mean: 1.54 --- STD: 0.48\n",
      "\n",
      "################################\n",
      "Running on 1600 vertices\n",
      "Graphs imported in 164.006s\n",
      "1600 vertices done in 28.521s. Mean: 1.52 --- STD: 0.46\n"
     ]
    }
   ],
   "source": [
    "k = 2\n",
    "mean_nb_colors_vs_nb_vertices = []\n",
    "std__nb_colors_vs_nb_vertices = []\n",
    "for n in nb_vertices:\n",
    "    start = time.time()\n",
    "    print(\"\\n################################\")\n",
    "    print(\"Running on {} vertices\".format(n))\n",
    "    filename = \"k-{}_{}-graphs_{}-vertices.pkl\".format(k,N, n)\n",
    "    graphs = load_list_of_dicts(filename)\n",
    "    loaded = time.time()\n",
    "    print(\"Graphs imported in {:.3f}s\".format(loaded-start))\n",
    "    all_nb_colors = []\n",
    "    for graph in graphs:\n",
    "        color_list = first_fit(graph)\n",
    "        all_nb_colors.append(max(color_list)/k)\n",
    "    mean_nb_colors_vs_nb_vertices.append(np.mean(all_nb_colors))\n",
    "    std__nb_colors_vs_nb_vertices.append(np.std(all_nb_colors))\n",
    "    done = time.time()\n",
    "    print(\"{} vertices done in {:.3f}s. Mean: {:.2f} --- STD: {:.2f}\".format(n,\n",
    "                                                                     done-loaded,\n",
    "                                                                     mean_nb_colors_vs_nb_vertices[-1],\n",
    "                                                                     std__nb_colors_vs_nb_vertices[-1]))"
   ]
  },
  {
   "cell_type": "markdown",
   "metadata": {},
   "source": [
    "k = 3"
   ]
  },
  {
   "cell_type": "code",
   "execution_count": 8,
   "metadata": {},
   "outputs": [
    {
     "name": "stdout",
     "output_type": "stream",
     "text": [
      "\n",
      "################################\n",
      "Running on 50 vertices\n",
      "Graphs imported in 13.193s\n",
      "50 vertices done in 0.153s. Mean: 1.81 --- STD: 0.44\n",
      "\n",
      "################################\n",
      "Running on 100 vertices\n",
      "Graphs imported in 0.610s\n",
      "100 vertices done in 0.157s. Mean: 1.97 --- STD: 0.58\n",
      "\n",
      "################################\n",
      "Running on 200 vertices\n",
      "Graphs imported in 2.158s\n",
      "200 vertices done in 0.573s. Mean: 2.00 --- STD: 0.61\n",
      "\n",
      "################################\n",
      "Running on 400 vertices\n",
      "Graphs imported in 10.047s\n",
      "400 vertices done in 2.309s. Mean: 2.04 --- STD: 0.58\n",
      "\n",
      "################################\n",
      "Running on 800 vertices\n",
      "Graphs imported in 43.971s\n",
      "800 vertices done in 9.323s. Mean: 2.09 --- STD: 0.62\n",
      "\n",
      "################################\n",
      "Running on 1600 vertices\n",
      "Graphs imported in 421.422s\n",
      "1600 vertices done in 39.890s. Mean: 1.95 --- STD: 0.55\n"
     ]
    }
   ],
   "source": [
    "k = 3\n",
    "mean_nb_colors_vs_nb_vertices = []\n",
    "std__nb_colors_vs_nb_vertices = []\n",
    "for n in nb_vertices:\n",
    "    start = time.time()\n",
    "    print(\"\\n################################\")\n",
    "    print(\"Running on {} vertices\".format(n))\n",
    "    filename = \"k-{}_{}-graphs_{}-vertices.pkl\".format(k,N, n)\n",
    "    graphs = load_list_of_dicts(filename)\n",
    "    loaded = time.time()\n",
    "    print(\"Graphs imported in {:.3f}s\".format(loaded-start))\n",
    "    all_nb_colors = []\n",
    "    for graph in graphs:\n",
    "        color_list = first_fit(graph)\n",
    "        all_nb_colors.append(max(color_list)/k)\n",
    "    mean_nb_colors_vs_nb_vertices.append(np.mean(all_nb_colors))\n",
    "    std__nb_colors_vs_nb_vertices.append(np.std(all_nb_colors))\n",
    "    done = time.time()\n",
    "    print(\"{} vertices done in {:.3f}s. Mean: {:.2f} --- STD: {:.2f}\".format(n,\n",
    "                                                                     done-loaded,\n",
    "                                                                     mean_nb_colors_vs_nb_vertices[-1],\n",
    "                                                                     std__nb_colors_vs_nb_vertices[-1]))"
   ]
  },
  {
   "cell_type": "markdown",
   "metadata": {},
   "source": [
    "k = 4"
   ]
  },
  {
   "cell_type": "code",
   "execution_count": 9,
   "metadata": {},
   "outputs": [
    {
     "name": "stdout",
     "output_type": "stream",
     "text": [
      "\n",
      "################################\n",
      "Running on 50 vertices\n",
      "Graphs imported in 20.359s\n",
      "50 vertices done in 0.216s. Mean: 1.91 --- STD: 0.32\n",
      "\n",
      "################################\n",
      "Running on 100 vertices\n",
      "Graphs imported in 0.635s\n",
      "100 vertices done in 0.194s. Mean: 2.26 --- STD: 0.54\n",
      "\n",
      "################################\n",
      "Running on 200 vertices\n",
      "Graphs imported in 2.437s\n",
      "200 vertices done in 0.670s. Mean: 2.53 --- STD: 0.69\n",
      "\n",
      "################################\n",
      "Running on 400 vertices\n",
      "Graphs imported in 11.370s\n",
      "400 vertices done in 2.726s. Mean: 2.57 --- STD: 0.67\n",
      "\n",
      "################################\n",
      "Running on 800 vertices\n",
      "Graphs imported in 50.093s\n",
      "800 vertices done in 10.826s. Mean: 2.73 --- STD: 0.74\n",
      "\n",
      "################################\n",
      "Running on 1600 vertices\n",
      "Graphs imported in 509.446s\n",
      "1600 vertices done in 115.452s. Mean: 2.76 --- STD: 0.70\n"
     ]
    }
   ],
   "source": [
    "k = 4\n",
    "mean_nb_colors_vs_nb_vertices = []\n",
    "std__nb_colors_vs_nb_vertices = []\n",
    "for n in nb_vertices:\n",
    "    start = time.time()\n",
    "    print(\"\\n################################\")\n",
    "    print(\"Running on {} vertices\".format(n))\n",
    "    filename = \"k-{}_{}-graphs_{}-vertices.pkl\".format(k,N, n)\n",
    "    graphs = load_list_of_dicts(filename)\n",
    "    loaded = time.time()\n",
    "    print(\"Graphs imported in {:.3f}s\".format(loaded-start))\n",
    "    all_nb_colors = []\n",
    "    for graph in graphs:\n",
    "        color_list = first_fit(graph)\n",
    "        all_nb_colors.append(max(color_list)/k)\n",
    "    mean_nb_colors_vs_nb_vertices.append(np.mean(all_nb_colors))\n",
    "    std__nb_colors_vs_nb_vertices.append(np.std(all_nb_colors))\n",
    "    done = time.time()\n",
    "    print(\"{} vertices done in {:.3f}s. Mean: {:.2f} --- STD: {:.2f}\".format(n,\n",
    "                                                                     done-loaded,\n",
    "                                                                     mean_nb_colors_vs_nb_vertices[-1],\n",
    "                                                                     std__nb_colors_vs_nb_vertices[-1]))"
   ]
  },
  {
   "cell_type": "code",
   "execution_count": null,
   "metadata": {},
   "outputs": [],
   "source": []
  }
 ],
 "metadata": {
  "colab": {
   "provenance": []
  },
  "kernelspec": {
   "display_name": "Python 3 (ipykernel)",
   "language": "python",
   "name": "python3"
  },
  "language_info": {
   "codemirror_mode": {
    "name": "ipython",
    "version": 3
   },
   "file_extension": ".py",
   "mimetype": "text/x-python",
   "name": "python",
   "nbconvert_exporter": "python",
   "pygments_lexer": "ipython3",
   "version": "3.8.16"
  }
 },
 "nbformat": 4,
 "nbformat_minor": 1
}
