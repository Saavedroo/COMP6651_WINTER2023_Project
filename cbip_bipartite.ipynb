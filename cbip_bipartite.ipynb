{
  "cells": [
    {
      "cell_type": "code",
      "execution_count": 23,
      "metadata": {
        "id": "L68NZ0CKJ2D0"
      },
      "outputs": [],
      "source": [
        "import networkx as nx\n",
        "import numpy as np\n",
        "import random\n",
        "import matplotlib.pyplot as plt\n",
        "import re\n",
        "import pickle"
      ]
    },
    {
      "cell_type": "code",
      "execution_count": 24,
      "metadata": {
        "id": "TSjmOBUTJ28l"
      },
      "outputs": [],
      "source": [
        "N = 100\n",
        "chromatic_num = 2     #this one only works for n = 2"
      ]
    },
    {
      "cell_type": "code",
      "execution_count": 25,
      "metadata": {
        "id": "w7CqNl8AEgyI"
      },
      "outputs": [],
      "source": [
        "def load_list_of_dicts(filename, create_using=nx.Graph):\n",
        "    with open(filename, 'rb') as f:\n",
        "        list_of_dicts = pickle.load(f)\n",
        "    graphs = [create_using(graph) for graph in list_of_dicts]\n",
        "    return graphs"
      ]
    },
    {
      "cell_type": "markdown",
      "source": [
        "# Change the path to your local path"
      ],
      "metadata": {
        "id": "pgIR0pJXMC7q"
      }
    },
    {
      "cell_type": "code",
      "source": [
        "path = \"drive/MyDrive/Graphs/k-2_100-graphs_400-vertices.pkl\""
      ],
      "metadata": {
        "id": "KCDFSGS1MJuS"
      },
      "execution_count": 26,
      "outputs": []
    },
    {
      "cell_type": "code",
      "execution_count": 27,
      "metadata": {
        "id": "B6W-Y1SUEvZA",
        "colab": {
          "base_uri": "https://localhost:8080/"
        },
        "outputId": "50516bae-2f25-44df-c1b2-b702c47c95a4"
      },
      "outputs": [
        {
          "output_type": "stream",
          "name": "stdout",
          "text": [
            "chromatic_num=2, n=400\n"
          ]
        }
      ],
      "source": [
        "filename = path.split('/')[-1]\n",
        "pattern = r\"k-(\\d+)_[\\w-]+_(\\d+)-vertices\\.pkl\"\n",
        "match = re.search(pattern, filename)\n",
        "\n",
        "if match:\n",
        "    chromatic_num = int(match.group(1))\n",
        "    n = int(match.group(2))\n",
        "    print(f\"chromatic_num={chromatic_num}, n={n}\")\n",
        "else:\n",
        "    print(\"Filename does not match pattern\")"
      ]
    },
    {
      "cell_type": "markdown",
      "metadata": {
        "id": "G5IvQV3NUZEe"
      },
      "source": [
        "# The CBIP Algorithm and test"
      ]
    },
    {
      "cell_type": "code",
      "execution_count": 28,
      "metadata": {
        "id": "DpvtgMT3Z4-U"
      },
      "outputs": [],
      "source": [
        "def get_bipartite_independent_sets(graph):\n",
        "    independent_set_1 = set()\n",
        "    independent_set_2 = set()\n",
        "    visited = set()\n",
        "\n",
        "    # choose the last vertex and add it to independent set 1\n",
        "    # start_vertex = list(graph.nodes())[-1]\n",
        "    start_vertex = len(list(graph.nodes())) - 1\n",
        "    independent_set_1.add(start_vertex)\n",
        "    visited.add(start_vertex)\n",
        "\n",
        "    # perform a breadth-first search(BFS) to add vertices to independent sets\n",
        "    queue = [start_vertex]\n",
        "    while queue:\n",
        "        vertex = queue.pop(0)\n",
        "        for neighbor in graph[vertex]:\n",
        "            if neighbor not in visited:\n",
        "                # add neighbor to the opposite independent set\n",
        "                if vertex in independent_set_1:\n",
        "                    independent_set_2.add(neighbor)\n",
        "                else:\n",
        "                    independent_set_1.add(neighbor)\n",
        "                visited.add(neighbor)\n",
        "                queue.append(neighbor)\n",
        "\n",
        "    # return the two independent sets\n",
        "    return list(independent_set_1), list(independent_set_2)\n"
      ]
    },
    {
      "cell_type": "code",
      "execution_count": 29,
      "metadata": {
        "id": "Oke2K5EvcufY"
      },
      "outputs": [],
      "source": [
        "def find_minimum_integer_not_in_list(lst):\n",
        "    s = set(lst)\n",
        "    i = 1\n",
        "    while i in s:\n",
        "        i += 1\n",
        "    return i"
      ]
    },
    {
      "cell_type": "code",
      "execution_count": 30,
      "metadata": {
        "id": "iQIPNBCGdqIt"
      },
      "outputs": [],
      "source": [
        "def cpib(G):\n",
        "  n = len(G.nodes())\n",
        "  if n<1:\n",
        "    return []\n",
        "  #Color the first vertice 1 as our base case.\n",
        "  color_list = [1]\n",
        "  for i in range(1,n):\n",
        "    other_part_colors = []\n",
        "    other_part = get_bipartite_independent_sets(G.subgraph(range(i+1)))[1]\n",
        "    for j in other_part:\n",
        "      other_part_colors.append(color_list[j])\n",
        "    color = find_minimum_integer_not_in_list(other_part_colors)\n",
        "    color_list.append(color)\n",
        "  return color_list\n"
      ]
    },
    {
      "cell_type": "code",
      "execution_count": 31,
      "metadata": {
        "id": "4xtHv2ZwIlcU"
      },
      "outputs": [],
      "source": [
        "all_graphs = load_list_of_dicts(path)"
      ]
    },
    {
      "cell_type": "code",
      "source": [
        "# all_graphs = g_generator(N, n, chromatic_num)     #change g_generator with his code"
      ],
      "metadata": {
        "id": "QMD6JAling3F"
      },
      "execution_count": 32,
      "outputs": []
    },
    {
      "cell_type": "code",
      "source": [
        "ratio_list_cbip = []\n",
        "for i in range(N):\n",
        "  # print(i)\n",
        "  G = all_graphs[i]\n",
        "  ratio_list_cbip.append(max(cpib(G))/chromatic_num)\n",
        "  ##Write it into a file for large graphs\n",
        "  # with open('my_list.txt', 'w') as f:\n",
        "  #   f.write(','.join(str(x) for x in ratio_list_cbip))"
      ],
      "metadata": {
        "id": "tH-BsDg2xY73"
      },
      "execution_count": 33,
      "outputs": []
    },
    {
      "cell_type": "code",
      "execution_count": 34,
      "metadata": {
        "id": "21UlIJWdFROU",
        "colab": {
          "base_uri": "https://localhost:8080/"
        },
        "outputId": "5143b693-e4b8-4624-dfcd-c0aedb48c9b3"
      },
      "outputs": [
        {
          "output_type": "stream",
          "name": "stdout",
          "text": [
            "nember of vertices: 400\n",
            "The maximum ratio is: 2.0\n",
            "The ratio's mean is : 1.425 And the standard deviation is: 0.29474565306378986\n"
          ]
        }
      ],
      "source": [
        "print(\"nember of vertices:\", n)\n",
        "print(\"The maximum ratio is:\",max(ratio_list_cbip))\n",
        "print(\"The ratio's mean is :\",np.mean(np.array(ratio_list_cbip)),\"And the standard deviation is:\",np.std(np.array(ratio_list_cbip)))"
      ]
    }
  ],
  "metadata": {
    "colab": {
      "provenance": []
    },
    "kernelspec": {
      "display_name": "Python 3",
      "name": "python3"
    },
    "language_info": {
      "name": "python"
    },
    "gpuClass": "standard"
  },
  "nbformat": 4,
  "nbformat_minor": 0
}