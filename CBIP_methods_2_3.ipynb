{
  "cells": [
    {
      "attachments": {},
      "cell_type": "markdown",
      "id": "fe3adc5f",
      "metadata": {},
      "source": [
        "# Notebook for methods 2 and 3 for CBIP"
      ]
    },
    {
      "attachments": {},
      "cell_type": "markdown",
      "id": "9cdc7bf7",
      "metadata": {},
      "source": [
        "The goal of these 2 methods is two find independent subsets in order to give the new vertex its colour"
      ]
    },
    {
      "cell_type": "code",
      "execution_count": 1,
      "id": "2391f27a",
      "metadata": {
        "id": "2391f27a"
      },
      "outputs": [],
      "source": [
        "import random\n",
        "from itertools import combinations\n",
        "import networkx as nx\n",
        "import matplotlib.pyplot as plt\n",
        "import numpy as np\n",
        "seed = 1234\n",
        "random.seed(seed)"
      ]
    },
    {
      "cell_type": "code",
      "execution_count": 2,
      "id": "4e5r9YB2l6Al",
      "metadata": {
        "id": "4e5r9YB2l6Al"
      },
      "outputs": [],
      "source": [
        "def generate_graph_from_dictionnary(dico):\n",
        "  l = len(dico)\n",
        "  #adjacency matrix construction\n",
        "  matrix = np.zeros((l,l))\n",
        "  for v, n in dico.items():\n",
        "    #print(v,n)\n",
        "    for vertex in n:\n",
        "      matrix[int(v)][int(vertex)]=1.\n",
        "  print(matrix)\n",
        "\n",
        "  G = nx.from_numpy_array(matrix, create_using = nx.MultiGraph())\n",
        "\n",
        "  pos = nx.spring_layout(G)\n",
        "  nx.draw_networkx(G,pos)\n",
        "  plt.show()\n",
        "\n",
        "  return(matrix,G)"
      ]
    },
    {
      "cell_type": "code",
      "execution_count": 3,
      "id": "i7EOIPjonmro",
      "metadata": {
        "colab": {
          "base_uri": "https://localhost:8080/",
          "height": 580
        },
        "id": "i7EOIPjonmro",
        "outputId": "c40d1692-d295-40ba-e5b6-d8f984ed308a"
      },
      "outputs": [
        {
          "name": "stdout",
          "output_type": "stream",
          "text": [
            "[[0. 0. 0. 1. 0. 1. 0. 1. 0. 1.]\n",
            " [0. 0. 1. 0. 1. 0. 1. 0. 1. 0.]\n",
            " [0. 1. 0. 0. 0. 1. 0. 1. 0. 1.]\n",
            " [1. 0. 0. 0. 1. 0. 1. 0. 1. 0.]\n",
            " [0. 1. 0. 1. 0. 0. 0. 1. 0. 1.]\n",
            " [1. 0. 1. 0. 0. 0. 1. 0. 1. 0.]\n",
            " [0. 1. 0. 1. 0. 1. 0. 0. 0. 1.]\n",
            " [1. 0. 1. 0. 1. 0. 0. 0. 1. 0.]\n",
            " [0. 1. 0. 1. 0. 1. 0. 1. 0. 0.]\n",
            " [1. 0. 1. 0. 1. 0. 1. 0. 0. 0.]]\n"
          ]
        },
        {
          "data": {
            "image/png": "[encoded data removed]",
            "text/plain": [
              "<Figure size 432x288 with 1 Axes>"
            ]
          },
          "metadata": {},
          "output_type": "display_data"
        }
      ],
      "source": [
        "#graph from the project guidelines\n",
        "example_CBIP = {0:[3,5,7,9],1:[2,4,6,8],2:[1,5,7,9],3:[0,4,6,8],4:[1,3,7,9],5:[0,2,6,8],6:[1,3,5,9],7:[0,2,4,8],8:[1,3,5,7],9:[0,2,4,6]}\n",
        "matrix, G = generate_graph_from_dictionnary(example_CBIP)"
      ]
    },
    {
      "cell_type": "code",
      "execution_count": 4,
      "id": "4b5cfa7b",
      "metadata": {
        "id": "4b5cfa7b"
      },
      "outputs": [],
      "source": [
        "def GenerateGraph(n,p):\n",
        "    V = set([v for v in range(n)])\n",
        "    E = set()\n",
        "    E_dict = {}\n",
        "    for v in V:\n",
        "        E_dict[str(v)] = []\n",
        "    for combination in combinations(V,2):\n",
        "        a = random.random()\n",
        "        if a < p:\n",
        "            E.add(combination)\n",
        "            E_dict[str(combination[0])].append(str(combination[1]))\n",
        "            E_dict[str(combination[1])].append(str(combination[0]))\n",
        "    g = nx.Graph()\n",
        "    g.add_nodes_from(V)\n",
        "    g.add_edges_from(E)\n",
        "    \n",
        "    return g, V, E, E_dict\n"
      ]
    },
    {
      "cell_type": "markdown",
      "id": "8ytKjIB4aWlh",
      "metadata": {
        "id": "8ytKjIB4aWlh"
      },
      "source": [
        "### To display a graph with only a few vertices revealed"
      ]
    },
    {
      "cell_type": "code",
      "execution_count": 5,
      "id": "nP-MPTWBtVjd",
      "metadata": {
        "id": "nP-MPTWBtVjd"
      },
      "outputs": [],
      "source": [
        "\n",
        "def get_neighbors(matrix,i):\n",
        "  neighbours = []\n",
        "  L = matrix.shape[0]\n",
        "  for v in range(L):\n",
        "    if matrix[i][v] == 1:\n",
        "      neighbours.append(v)\n",
        "  return neighbours\n",
        "  \n",
        "def reveal_neighbors(matrix, i):\n",
        "  neighbors = []\n",
        "  L = matrix.shape[0]\n",
        "  for v in range(L):\n",
        "    if matrix[i][v] == 1:\n",
        "      neigh = v\n",
        "    #vertices that are already displayed\n",
        "      if neigh < i:\n",
        "        neighbors.append(neigh)\n",
        "  return neighbors\n",
        " \n",
        "\n",
        "def vertices_non_neighbors(vertex,matrix,V):\n",
        "  #all the neighbours of the vertex of interest\n",
        "  neighbours = get_neighbors(matrix,i)\n",
        "  \n",
        "  #print(\"Neihbours are = \",neighbours)\n",
        "  #neighbours.append(vertex)\n",
        "  non_neighbours = list(V.copy())\n",
        "  to_delete = []\n",
        "  l = len(non_neighbours)\n",
        "\n",
        "  #which vertex are neighbors ?\n",
        "  for n in neighbours:\n",
        "    n=int(n)\n",
        "    for v in range(l):\n",
        "      vertex = int(non_neighbours[v])\n",
        "      if (n==vertex):\n",
        "        to_delete.append(v) \n",
        "  to_delete.sort()\n",
        "\n",
        "  #deleteting them\n",
        "  for i in range(len(to_delete)-1,-1,-1):\n",
        "    non_neighbours.pop(to_delete[i]) \n",
        "  return non_neighbours\n",
        "\n",
        "#new non neighbour function using only the adjacency matrix\n",
        "def non_neighbour_i(vertex,matrix,remain):\n",
        "  non_n=[]\n",
        "\n",
        "  #print(\"Vertex = \",vertex,\"matrix = \",matrix)\n",
        "  #print(\"Shape = \",matrix.shape,\"and vertex = \",vertex)\n",
        "  #working_matrix = matrix\n",
        "  for k in range(matrix.shape[0]):\n",
        "    if matrix[vertex][k]==0:\n",
        "      non_n.append(k)\n",
        "  non_n_non_remain = []\n",
        "  #check if the vertices are in remain\n",
        "  if remain != None:\n",
        "    for i in range(len(non_n)):\n",
        "      count = 0\n",
        "      for r in remain:\n",
        "        if non_n[i]==r:\n",
        "          count += 1\n",
        "      if count > 0:\n",
        "        non_n_non_remain.append(non_n[i])\n",
        "    return(non_n_non_remain)\n",
        "  return(non_n)\n",
        "\n",
        "# among a subset, this function gives the score of each vertex (+1 if this vertex has a neighbour among the subset)\n",
        "# using adjacency matrix\n",
        "def score(subset,matrix):\n",
        "  score = len(subset)*[0] \n",
        "  for i in range(len(subset)):\n",
        "    x = subset[i]\n",
        "    for j in range(len(subset)):\n",
        "      y = subset[j]\n",
        "      score[i] = score[i]+matrix[x][y]\n",
        "  return(score)\n",
        "\n",
        "\n",
        "#outputs the difference between two sets of vertices\n",
        "def remaining(ref,sous_set):\n",
        "  remaining = ref.copy()\n",
        "  to_delete = []\n",
        "  for r in range(len(ref)):\n",
        "    for s in sous_set:\n",
        "      s=int(s)\n",
        "      ref_vertex = int(ref[r])\n",
        "      if s==ref_vertex:\n",
        "        to_delete.append(r)\n",
        "  for i in range(len(to_delete)-1,-1,-1):\n",
        "    remaining.pop(to_delete[i])\n",
        "  return(remaining)\n",
        "  "
      ]
    },
    {
      "cell_type": "code",
      "execution_count": 6,
      "id": "1dDZmvNWJzOJ",
      "metadata": {
        "id": "1dDZmvNWJzOJ"
      },
      "outputs": [],
      "source": [
        "def get_matrix_i(matrix,i):\n",
        "  new_matrix = np.zeros((i+1,i+1))\n",
        "  for x in range(i+1):\n",
        "    for y in range(i+1):\n",
        "      new_matrix[x][y]=matrix[x][y]\n",
        "  return(new_matrix) \n",
        "\n",
        "def plot_partial_graph(i,matrix):\n",
        "  vertices = reveal_neighbors(matrix,i)\n",
        "  \n",
        "  #computing new adjacency matrix\n",
        "  new_matrix = get_matrix_i(matrix,i)\n",
        "  #print(\"New adjacency matrix for \",i,\" vertices revealed\")\n",
        "  #print(new_matrix)\n",
        "  return(new_matrix)"
      ]
    },
    {
      "cell_type": "markdown",
      "id": "XASJd1yLtQ05",
      "metadata": {
        "id": "XASJd1yLtQ05"
      },
      "source": [
        "## Finding Independent Subset"
      ]
    },
    {
      "cell_type": "markdown",
      "id": "kMnfHFcb2RHl",
      "metadata": {
        "id": "kMnfHFcb2RHl"
      },
      "source": [
        "### 1st idea\n",
        "\n",
        "\n",
        "1.   When a new vertex is revealed, we create a set that includes this vertex (NEW) and all it's non neighbors (NN). *Let's call this set S = (NEW) U (NN)*\n",
        "2.   We don't want any neighbors to be in NN as we have to make this set as an independent set. Therefore, we are going to sort among the non neighbors:\n",
        "*   If there is a conflict in between two of the non neighbors of the new node, we increment a score for theses vertices\n",
        "*   We remove the vertex with the highest score (method to change ?)\n",
        "\n",
        "\n",
        "\n",
        "\n"
      ]
    },
    {
      "cell_type": "code",
      "execution_count": 7,
      "id": "QhDzBUgS5Y8y",
      "metadata": {
        "id": "QhDzBUgS5Y8y"
      },
      "outputs": [],
      "source": [
        "#determine which vertices to keep in the subset\n",
        "def keep_method1(subset,matrix):\n",
        "  working_set = subset.copy()\n",
        "  sc = score(subset,matrix)\n",
        "  vertices_to_sort = []\n",
        "  #we iterate while we don't have an independent subset, while there is still some conflicts\n",
        "  while sum(sc)!=0:\n",
        "    #finding max score\n",
        "    index = sc.index(max(sc))\n",
        "    vertices_to_sort.append(subset[index])\n",
        "    working_set.pop(index)\n",
        "    sc.pop(index)\n",
        "    sc = score(working_set,matrix)\n",
        "    #print(\"Score for \",working_set,\" is : \",sc)\n",
        "\n",
        "  return(working_set,vertices_to_sort)"
      ]
    },
    {
      "cell_type": "code",
      "execution_count": 8,
      "id": "ARgs6D7QvIxp",
      "metadata": {
        "id": "ARgs6D7QvIxp"
      },
      "outputs": [],
      "source": [
        "def find_independent_set(i,init,adjacency_matrix):\n",
        "  subset_1 = non_neighbour_i(init,adjacency_matrix,None)\n",
        "  #print(\"##### 1st SUBSET TO SORT = \",subset_1)\n",
        "  remain = []\n",
        "  for k in range(i):\n",
        "    remain.append(k)\n",
        "\n",
        "  ind_subsets = []\n",
        "  ind,follow = keep_method1(subset_1,adjacency_matrix)\n",
        "  ind_subsets.append(ind)\n",
        "  remain = remaining(remain,ind)\n",
        "  #print(\"Independent subsets are = \",ind_subsets)\n",
        "  #print(\"REMAINING vertices to sort = \",remain)\n",
        "\n",
        "  ind_subsets.append(remain)\n",
        "  #print(\"A set of independent subsets for this graph is:\", ind_subsets)\n",
        "  \n",
        "  return(ind_subsets)"
      ]
    },
    {
      "cell_type": "markdown",
      "id": "ajkoP4LN3c5n",
      "metadata": {
        "id": "ajkoP4LN3c5n"
      },
      "source": [
        "### 2nd idea\n",
        "We consider iteration k where the (k-1) first nodes have already been revealed and given colours (i colours have already been given). We need to assign a colour to node k. We know that we can form as many sets as there are given colors and that all these sets are independent. Therefore, following these steps:\n",
        "\n",
        "\n",
        "*   create i sets, each of them comprised of the nodes of the same colour\n",
        "*   find a set where node k fits -> find a set where we have none of the neighbors of k. If we cannot find any sets, then create a new set\n",
        "* assign the colour according to CBIP algorithm\n",
        "\n"
      ]
    },
    {
      "cell_type": "code",
      "execution_count": 9,
      "id": "S8mEVEneJCPq",
      "metadata": {
        "id": "S8mEVEneJCPq"
      },
      "outputs": [],
      "source": [
        "#we know that the k first vertices (from 0 to (k-1)) have been revealed\n",
        "#we have a list of their colour : color list\n",
        "\n",
        "def get_color_matrix(vertices,color_list):\n",
        "  #print(\"Vertices = \",vertices)\n",
        "  #print(\"color_list = \",color_list)\n",
        "  m = max(color_list) #number of subsets\n",
        "  color_matrix = np.zeros((len(vertices),m))\n",
        "  #fill in the matrix\n",
        "  for v in range(len(vertices)):\n",
        "    for k in range(m):\n",
        "      if color_list[v]==k+1:\n",
        "        color_matrix[v][k]=1\n",
        "  #print(\"##### COLOR MATRIX\")\n",
        "  #print(color_matrix)\n",
        "  return(color_matrix)\n",
        "\n",
        "def group_by_color(vertices,color_list):\n",
        "  color_matrix = get_color_matrix(vertices,color_list)\n",
        "  #print(\"COLOR MATRIX = \",color_matrix)\n",
        "  m = max(color_list)\n",
        "  ind_sets=[]\n",
        "  for k in range(m):  \n",
        "    l=[]\n",
        "    for i in range(len(vertices)):\n",
        "      if color_matrix[i][k]==1:\n",
        "        l.append(i)\n",
        "    ind_sets.append(l)\n",
        "  return(ind_sets)\n",
        "\n",
        "#fonction that test if the vertex has neighbour among the set\n",
        "def test_neighbours(vertex,matrix,sset):\n",
        "  neigh = get_neighbors(matrix,vertex)\n",
        "  for n in neigh:\n",
        "    n=int(n)\n",
        "    for v in sset:\n",
        "      v=int(v)\n",
        "      if n==v:\n",
        "        return True\n",
        "  return False"
      ]
    },
    {
      "cell_type": "code",
      "execution_count": 10,
      "id": "v5aeMgRUUuqv",
      "metadata": {
        "id": "v5aeMgRUUuqv"
      },
      "outputs": [],
      "source": [
        "def independent_sets_3rd_method(new,vertices,color_list,matrix):\n",
        "  little_matrix = get_matrix_i(matrix,new)\n",
        "  #print(\"Little matrix = \",little_matrix)\n",
        "  indep_sets = group_by_color(vertices,color_list)\n",
        "  #print(color_list,\"INDEP SETS ARE = \",indep_sets)\n",
        "  #check where new vertex fits\n",
        "  \n",
        "  i=0\n",
        "  for s in indep_sets:\n",
        "    #print(\"Looking for neighbours in \",s)\n",
        "    if not test_neighbours(new,matrix,s):\n",
        "      #print(\"No neighbour in set \",s)\n",
        "      s.append(new)\n",
        "      \n",
        "      return(indep_sets,i)\n",
        "    i+=1\n",
        "  #print(\"No set without any neighbours found\")\n",
        "  indep_sets.append([new])\n",
        "  return(indep_sets,len(indep_sets)-1)"
      ]
    },
    {
      "cell_type": "markdown",
      "id": "TEeWSu-6aRcO",
      "metadata": {
        "id": "TEeWSu-6aRcO"
      },
      "source": [
        "# CBIP"
      ]
    },
    {
      "cell_type": "markdown",
      "id": "PE1JyMyDajWj",
      "metadata": {
        "id": "PE1JyMyDajWj"
      },
      "source": [
        "### CBIP"
      ]
    },
    {
      "cell_type": "code",
      "execution_count": 11,
      "id": "3EbcKDsicBeX",
      "metadata": {
        "id": "3EbcKDsicBeX"
      },
      "outputs": [],
      "source": [
        "def reveal_neighbors_adj(adj_list, i):\n",
        "  neighbors = []\n",
        "  for neigh in adj_list[i]:\n",
        "    if neigh < i:\n",
        "      neighbors.append(neigh)\n",
        "  return neighbors"
      ]
    },
    {
      "cell_type": "code",
      "execution_count": 12,
      "id": "YCXUedOLe5Ys",
      "metadata": {
        "id": "YCXUedOLe5Ys"
      },
      "outputs": [],
      "source": [
        "def find_smallest_integer(l):\n",
        "  k = 1 \n",
        "  for c in l:\n",
        "    if c==k:\n",
        "      k=k+1\n",
        "  return(k)\n",
        "\n",
        "def get_color(sets,color_list,val):\n",
        "  #we are looking for the smallest natural number not used here\n",
        "  colors_used = []\n",
        "  #we order the colors used in the other subsets\n",
        "  for s in range(len(sets)):\n",
        "    #print(\"s in sets = \",s,\"and val = \",val)\n",
        "    if s!=val:\n",
        "      for k in range(len(sets[s])):\n",
        "        vert = sets[s][k]\n",
        "        #print(\"VERTEX = \",vert)\n",
        "        colors_used.append(color_list[sets[s][k]])\n",
        "  colors_used = sorted(set(colors_used), key = lambda ele: colors_used.count(ele))\n",
        "  colors_used.sort()\n",
        "  #print(\"Colors used until now not in the subset of the new one = \",colors_used,\"val = \",val)\n",
        "  #we want to find the smallest natural number not used\n",
        "  return(find_smallest_integer(colors_used))\n",
        "  "
      ]
    },
    {
      "cell_type": "code",
      "execution_count": 13,
      "id": "KhHpPDSbbYDl",
      "metadata": {
        "id": "KhHpPDSbbYDl"
      },
      "outputs": [],
      "source": [
        "def CBIP_method3(n,matrix):\n",
        "  color_list = []\n",
        "  vertices_displayed = []\n",
        "  #steps by steps\n",
        "  for i in range(n+1):\n",
        "    nbrs = get_neighbors(little_graph(matrix,i),i)\n",
        "    nb = len(nbrs)\n",
        "    #print(\"Neighbours for \",i,\" are \",nbrs)\n",
        "  \n",
        "    if i==0:\n",
        "      vertices_displayed.append(0)\n",
        "      color_list.append(1)\n",
        "      #no need to look for the neighbours of the first displayed vertex\n",
        "      #print(\"For vertex \",i,\" color = \",1)\n",
        "    elif i>0:\n",
        "      if nb == 0:\n",
        "        color_list.append(1)\n",
        "        #print(\"No neighbours for unconnected\",i)\n",
        "        vertices_displayed.append(i)\n",
        "      elif nb != 0:\n",
        "        #print(\"---------- new vertex \",i,\" ---------\")\n",
        "        sets,val = independent_sets_3rd_method(i,vertices_displayed,color_list,matrix)\n",
        "        #print(\"Independent sets at this stage = \",sets)\n",
        "        #print(\"Independents sets are = \",sets)\n",
        "        vertices_displayed.append(i)\n",
        "        #next nodes\n",
        "        if val >=0:\n",
        "          new_color = get_color(sets,color_list,val)\n",
        "\n",
        "          #print(\"For vertex \",i,\" color = \",new_color)\n",
        "          color_list.append(new_color)\n",
        "\n",
        "  return(color_list)"
      ]
    },
    {
      "cell_type": "code",
      "execution_count": 14,
      "id": "dk3wggXEudjN",
      "metadata": {
        "id": "dk3wggXEudjN"
      },
      "outputs": [],
      "source": [
        "def get_color_m2(sets,color_list,val):\n",
        "  #we are looking for the smallest natural number not used here\n",
        "  colors_used = []\n",
        "  #we order the colors used in the other subsets\n",
        "  for s in range(1,len(sets)):\n",
        "    working_set = sets[s]    \n",
        "    for k in range(len(working_set)):\n",
        "      #NOTA BENE : I wrote [k]-2 before and wrote k-1 for bipartite graph\n",
        "      vertex = working_set[k]\n",
        "      color_vertex = color_list[vertex]\n",
        "      colors_used.append(color_vertex)\n",
        "  colors_used = sorted(set(colors_used), key = lambda ele: colors_used.count(ele))\n",
        "  colors_used.sort()\n",
        "  #we want to find the smallest natural number not used\n",
        "  return(find_smallest_integer(colors_used))\n",
        "\n",
        "def little_graph(matrix,i):\n",
        "  new_matrix = np.zeros((i+1,i+1))\n",
        "  for x in range(i+1):\n",
        "    for y in range(i+1):\n",
        "      new_matrix[x][y]=matrix[x][y]\n",
        "  \n",
        "  return(new_matrix)\n",
        "\n",
        "def CBIP_method2(n,matrix):\n",
        "  color_list = []  \n",
        "  #vertices_displayed = []\n",
        "  #steps by steps\n",
        "  for i in range(n+1): \n",
        "    nbrs = get_neighbors(little_graph(matrix,i),i)\n",
        "    nb = len(nbrs)\n",
        "    #print(\"Neighbours of \",i,\" are \",nbrs)\n",
        "    #unconnected vertex -> assign color 1\n",
        "    if nb == 0:\n",
        "      #print(\"No neighbours for vertex \",i, \" which is an unconnected vertex\")\n",
        "      color_list.append(1)\n",
        "    \n",
        "    #connected vertex\n",
        "    elif nb != 0:\n",
        "      if i==0:\n",
        "        #vertices_displayed.append(0)\n",
        "        color_list.append(1)\n",
        "        #no need to look for the neighbours of the first displayed vertex\n",
        "      elif i>0:\n",
        "        new_matrix = little_graph(matrix,i)\n",
        "        #print(\"Dico = \",dico,\"new matrix = \",new_matrix)\n",
        "        sets = find_independent_set(i,i,new_matrix)\n",
        "\n",
        "        #next nodes\n",
        "        new_color = get_color_m2(sets,color_list,0)\n",
        "        #print(\"Independent sets are = \",sets, \" and colors are \",color_list)\n",
        "        #print(\"New color for vertex \",i,\" is \",new_color)\n",
        "        color_list.append(new_color)\n",
        "        #print(\"For new vertex \",i,\" colors are \", color_list)  \n",
        "\n",
        "  return(color_list)"
      ]
    },
    {
      "cell_type": "markdown",
      "id": "8t0rJCA639zl",
      "metadata": {
        "id": "8t0rJCA639zl"
      },
      "source": [
        "## Comparison of the two methods"
      ]
    },
    {
      "cell_type": "markdown",
      "id": "qoJnP3FnryaJ",
      "metadata": {
        "id": "qoJnP3FnryaJ"
      },
      "source": [
        "### On the project guideline example"
      ]
    },
    {
      "cell_type": "markdown",
      "id": "Mdgcxue8sbyB",
      "metadata": {
        "id": "Mdgcxue8sbyB"
      },
      "source": [
        "Definition of the graph"
      ]
    },
    {
      "cell_type": "code",
      "execution_count": 15,
      "id": "_vVVDaL2SPYH",
      "metadata": {
        "colab": {
          "base_uri": "https://localhost:8080/",
          "height": 580
        },
        "id": "_vVVDaL2SPYH",
        "outputId": "ea68e3f7-0468-4d4e-f533-e0cafc474575"
      },
      "outputs": [
        {
          "name": "stdout",
          "output_type": "stream",
          "text": [
            "[[0. 0. 0. 1. 0. 1. 0. 1. 0. 1.]\n",
            " [0. 0. 1. 0. 1. 0. 1. 0. 1. 0.]\n",
            " [0. 1. 0. 0. 0. 1. 0. 1. 0. 1.]\n",
            " [1. 0. 0. 0. 1. 0. 1. 0. 1. 0.]\n",
            " [0. 1. 0. 1. 0. 0. 0. 1. 0. 1.]\n",
            " [1. 0. 1. 0. 0. 0. 1. 0. 1. 0.]\n",
            " [0. 1. 0. 1. 0. 1. 0. 0. 0. 1.]\n",
            " [1. 0. 1. 0. 1. 0. 0. 0. 1. 0.]\n",
            " [0. 1. 0. 1. 0. 1. 0. 1. 0. 0.]\n",
            " [1. 0. 1. 0. 1. 0. 1. 0. 0. 0.]]\n"
          ]
        },
        {
          "data": {
            "image/png": "[encoded data removed]",
            "text/plain": [
              "<Figure size 432x288 with 1 Axes>"
            ]
          },
          "metadata": {},
          "output_type": "display_data"
        }
      ],
      "source": [
        "example_CBIP = {0:[3,5,7,9],1:[2,4,6,8],2:[1,5,7,9],3:[0,4,6,8],4:[1,3,7,9],5:[0,2,6,8],6:[1,3,5,9],7:[0,2,4,8],8:[1,3,5,7],9:[0,2,4,6]}\n",
        "matrix, G = generate_graph_from_dictionnary(example_CBIP)"
      ]
    },
    {
      "cell_type": "code",
      "execution_count": 16,
      "id": "qlUVW5gPsfnG",
      "metadata": {
        "colab": {
          "base_uri": "https://localhost:8080/"
        },
        "id": "qlUVW5gPsfnG",
        "outputId": "e01a9eaa-2fdc-43c9-a6c7-12e1eeffb0a4"
      },
      "outputs": [
        {
          "name": "stdout",
          "output_type": "stream",
          "text": [
            "##########FOR 6 VERTICES REVEALED###########\n",
            "####METHOD 1 (we don't use the given colours)\n",
            "[1, 1, 2, 2, 3, 4]\n",
            "####METHOD 2 (we use the given colours)\n",
            "[1, 1, 2, 2, 3, 3]\n"
          ]
        }
      ],
      "source": [
        "print(\"##########FOR 6 VERTICES REVEALED###########\")\n",
        "print(\"####METHOD 1 (we don't use the given colours)\")\n",
        "print(CBIP_method2(5,matrix))\n",
        "print(\"####METHOD 2 (we use the given colours)\")\n",
        "print(CBIP_method3(5,matrix))"
      ]
    },
    {
      "cell_type": "code",
      "execution_count": 17,
      "id": "JampKj9Csngi",
      "metadata": {
        "colab": {
          "base_uri": "https://localhost:8080/"
        },
        "id": "JampKj9Csngi",
        "outputId": "c8261c1a-4f97-4448-f151-52e8042f442d"
      },
      "outputs": [
        {
          "name": "stdout",
          "output_type": "stream",
          "text": [
            "##########FOR 9 VERTICES REVEALED###########\n",
            "####METHOD 1 (we don't use the given colours)\n",
            "[1, 1, 2, 2, 3, 4, 3, 4, 3, 4]\n",
            "####METHOD 2 (we use the given colours)\n",
            "[1, 1, 2, 2, 3, 3, 4, 4, 5, 5]\n"
          ]
        }
      ],
      "source": [
        "print(\"##########FOR 9 VERTICES REVEALED###########\")\n",
        "print(\"####METHOD 1 (we don't use the given colours)\")\n",
        "print(CBIP_method2(9,matrix))\n",
        "print(\"####METHOD 2 (we use the given colours)\")\n",
        "print(CBIP_method3(9,matrix))"
      ]
    },
    {
      "cell_type": "markdown",
      "id": "ZWgAXdlEMW8p",
      "metadata": {
        "id": "ZWgAXdlEMW8p"
      },
      "source": [
        "# Graph Generator with CBIP"
      ]
    },
    {
      "cell_type": "markdown",
      "id": "aHcT0qUnNlN1",
      "metadata": {
        "id": "aHcT0qUnNlN1"
      },
      "source": [
        "Generation of a set of graph"
      ]
    },
    {
      "cell_type": "code",
      "execution_count": 18,
      "id": "OstouhmxMY-Z",
      "metadata": {
        "id": "OstouhmxMY-Z"
      },
      "outputs": [],
      "source": [
        "def g_generator(Number_of_graphs, numb_vertices, chromatic_num):\n",
        "  cnt = 0\n",
        "  graphs = []\n",
        "  all_ps = []\n",
        "  n = numb_vertices\n",
        "  while(cnt < Number_of_graphs):\n",
        "    if cnt% 5 == 0:\n",
        "      print(\"ok\",cnt)\n",
        "    # p = random.random()\n",
        "    # p_int = int(p * n)\n",
        "    p1 = random.random()\n",
        "    all_ps.append(p1)\n",
        "    # colors = np.zeros(n)\n",
        "    # colors[np.random.choice(n,p_int)] = 1\n",
        "\n",
        "\n",
        "    #logicaly this block is needed! but in practice it is better and faster to ignore that!\n",
        "    while(True):\n",
        "      colors = np.random.randint(chromatic_num, size=n)\n",
        "      unique_integers = np.unique(colors)\n",
        "      if len(unique_integers) == chromatic_num:\n",
        "        break\n",
        "\n",
        "    result = []\n",
        "    for h in unique_integers:    \n",
        "      indices = np.where(colors == h)[0]\n",
        "      random_index = np.random.choice(indices)\n",
        "      result.append(random_index)\n",
        "\n",
        "    G = nx.Graph()\n",
        "    G.add_nodes_from(range(n))\n",
        "    ## just to be sure we have all connected k vertices\n",
        "    for i in range(chromatic_num):\n",
        "      for j in range(i+1, chromatic_num):\n",
        "              G.add_edge(result[i], result[j])\n",
        "\n",
        "    for i in range(n):\n",
        "        for j in range(i+1,n):      #(i+1, n)   \n",
        "            if random.random() < p1 and colors[i] !=colors[j]:\n",
        "                G.add_edge(i, j)\n",
        "    cnt +=1\n",
        "    graphs.append(G)\n",
        "  # print(all_ps)\n",
        "  return graphs"
      ]
    },
    {
      "cell_type": "code",
      "execution_count": 19,
      "id": "_32ZiCqbMeu6",
      "metadata": {
        "colab": {
          "base_uri": "https://localhost:8080/"
        },
        "id": "_32ZiCqbMeu6",
        "outputId": "2d4ec3cf-83b1-46ca-ea5c-145c3311b3c3"
      },
      "outputs": [
        {
          "name": "stdout",
          "output_type": "stream",
          "text": [
            "ok 0\n",
            "ok 5\n",
            "ok 10\n",
            "ok 15\n",
            "ok 20\n",
            "ok 25\n",
            "ok 30\n",
            "ok 35\n",
            "ok 40\n",
            "ok 45\n",
            "ok 50\n",
            "ok 55\n",
            "ok 60\n",
            "ok 65\n",
            "ok 70\n",
            "ok 75\n",
            "ok 80\n",
            "ok 85\n",
            "ok 90\n",
            "ok 95\n"
          ]
        }
      ],
      "source": [
        "N = 100\n",
        "n = 10\n",
        "chromatic_num = 3\n",
        "set_of_graphs = g_generator(N, n, chromatic_num)"
      ]
    },
    {
      "cell_type": "markdown",
      "id": "sTpOttWaNnNs",
      "metadata": {
        "id": "sTpOttWaNnNs"
      },
      "source": [
        "Test on all the graphs"
      ]
    },
    {
      "cell_type": "code",
      "execution_count": 20,
      "id": "zurSPgEIO0Vm",
      "metadata": {
        "id": "zurSPgEIO0Vm"
      },
      "outputs": [],
      "source": [
        "def get_ratio(ratio,colors,chromatic_number):\n",
        "  new = max(colors)/chromatic_number\n",
        "  ratio.append(new)\n",
        "  return(ratio)"
      ]
    },
    {
      "cell_type": "code",
      "execution_count": 21,
      "id": "x1jxKJpzN0QH",
      "metadata": {
        "colab": {
          "base_uri": "https://localhost:8080/",
          "height": 1000
        },
        "id": "x1jxKJpzN0QH",
        "outputId": "b9c9f4b4-f4e2-4155-ef8e-91b38a510263"
      },
      "outputs": [
        {
          "name": "stdout",
          "output_type": "stream",
          "text": [
            "0\n",
            "1\n",
            "2\n",
            "3\n",
            "4\n",
            "ratio 3 =  [1.0, 1.0, 1.3333333333333333, 1.0]\n",
            "5\n",
            "6\n",
            "7\n",
            "8\n",
            "9\n",
            "ratio 3 =  [1.0, 1.0, 1.3333333333333333, 1.0, 1.3333333333333333, 1.0, 1.0, 1.0, 1.0]\n",
            "10\n",
            "11\n",
            "12\n",
            "13\n",
            "14\n",
            "ratio 3 =  [1.0, 1.0, 1.3333333333333333, 1.0, 1.3333333333333333, 1.0, 1.0, 1.0, 1.0, 1.0, 1.0, 1.0, 1.0, 1.0]\n",
            "15\n",
            "16\n",
            "17\n",
            "18\n",
            "19\n",
            "ratio 3 =  [1.0, 1.0, 1.3333333333333333, 1.0, 1.3333333333333333, 1.0, 1.0, 1.0, 1.0, 1.0, 1.0, 1.0, 1.0, 1.0, 1.0, 1.3333333333333333, 1.0, 1.0, 1.0]\n",
            "20\n",
            "21\n",
            "22\n",
            "23\n",
            "24\n",
            "ratio 3 =  [1.0, 1.0, 1.3333333333333333, 1.0, 1.3333333333333333, 1.0, 1.0, 1.0, 1.0, 1.0, 1.0, 1.0, 1.0, 1.0, 1.0, 1.3333333333333333, 1.0, 1.0, 1.0, 1.0, 1.0, 1.0, 1.0, 1.0]\n",
            "25\n",
            "26\n",
            "27\n",
            "28\n",
            "29\n",
            "ratio 3 =  [1.0, 1.0, 1.3333333333333333, 1.0, 1.3333333333333333, 1.0, 1.0, 1.0, 1.0, 1.0, 1.0, 1.0, 1.0, 1.0, 1.0, 1.3333333333333333, 1.0, 1.0, 1.0, 1.0, 1.0, 1.0, 1.0, 1.0, 1.3333333333333333, 1.3333333333333333, 1.3333333333333333, 1.3333333333333333, 1.0]\n",
            "30\n",
            "31\n",
            "32\n",
            "33\n",
            "34\n",
            "ratio 3 =  [1.0, 1.0, 1.3333333333333333, 1.0, 1.3333333333333333, 1.0, 1.0, 1.0, 1.0, 1.0, 1.0, 1.0, 1.0, 1.0, 1.0, 1.3333333333333333, 1.0, 1.0, 1.0, 1.0, 1.0, 1.0, 1.0, 1.0, 1.3333333333333333, 1.3333333333333333, 1.3333333333333333, 1.3333333333333333, 1.0, 1.0, 1.0, 1.3333333333333333, 1.0, 1.3333333333333333]\n",
            "35\n",
            "36\n",
            "37\n",
            "38\n",
            "39\n",
            "ratio 3 =  [1.0, 1.0, 1.3333333333333333, 1.0, 1.3333333333333333, 1.0, 1.0, 1.0, 1.0, 1.0, 1.0, 1.0, 1.0, 1.0, 1.0, 1.3333333333333333, 1.0, 1.0, 1.0, 1.0, 1.0, 1.0, 1.0, 1.0, 1.3333333333333333, 1.3333333333333333, 1.3333333333333333, 1.3333333333333333, 1.0, 1.0, 1.0, 1.3333333333333333, 1.0, 1.3333333333333333, 1.0, 1.0, 1.0, 1.0, 1.3333333333333333]\n",
            "40\n",
            "41\n",
            "42\n",
            "43\n",
            "44\n",
            "ratio 3 =  [1.0, 1.0, 1.3333333333333333, 1.0, 1.3333333333333333, 1.0, 1.0, 1.0, 1.0, 1.0, 1.0, 1.0, 1.0, 1.0, 1.0, 1.3333333333333333, 1.0, 1.0, 1.0, 1.0, 1.0, 1.0, 1.0, 1.0, 1.3333333333333333, 1.3333333333333333, 1.3333333333333333, 1.3333333333333333, 1.0, 1.0, 1.0, 1.3333333333333333, 1.0, 1.3333333333333333, 1.0, 1.0, 1.0, 1.0, 1.3333333333333333, 1.0, 1.0, 1.0, 1.6666666666666667, 1.0]\n",
            "45\n",
            "46\n",
            "47\n",
            "48\n",
            "49\n",
            "ratio 3 =  [1.0, 1.0, 1.3333333333333333, 1.0, 1.3333333333333333, 1.0, 1.0, 1.0, 1.0, 1.0, 1.0, 1.0, 1.0, 1.0, 1.0, 1.3333333333333333, 1.0, 1.0, 1.0, 1.0, 1.0, 1.0, 1.0, 1.0, 1.3333333333333333, 1.3333333333333333, 1.3333333333333333, 1.3333333333333333, 1.0, 1.0, 1.0, 1.3333333333333333, 1.0, 1.3333333333333333, 1.0, 1.0, 1.0, 1.0, 1.3333333333333333, 1.0, 1.0, 1.0, 1.6666666666666667, 1.0, 1.0, 1.0, 1.0, 1.0, 1.0]\n",
            "50\n",
            "51\n",
            "52\n",
            "53\n",
            "54\n",
            "ratio 3 =  [1.0, 1.0, 1.3333333333333333, 1.0, 1.3333333333333333, 1.0, 1.0, 1.0, 1.0, 1.0, 1.0, 1.0, 1.0, 1.0, 1.0, 1.3333333333333333, 1.0, 1.0, 1.0, 1.0, 1.0, 1.0, 1.0, 1.0, 1.3333333333333333, 1.3333333333333333, 1.3333333333333333, 1.3333333333333333, 1.0, 1.0, 1.0, 1.3333333333333333, 1.0, 1.3333333333333333, 1.0, 1.0, 1.0, 1.0, 1.3333333333333333, 1.0, 1.0, 1.0, 1.6666666666666667, 1.0, 1.0, 1.0, 1.0, 1.0, 1.0, 1.3333333333333333, 1.0, 1.0, 1.3333333333333333, 1.0]\n",
            "55\n",
            "56\n",
            "57\n",
            "58\n",
            "59\n",
            "ratio 3 =  [1.0, 1.0, 1.3333333333333333, 1.0, 1.3333333333333333, 1.0, 1.0, 1.0, 1.0, 1.0, 1.0, 1.0, 1.0, 1.0, 1.0, 1.3333333333333333, 1.0, 1.0, 1.0, 1.0, 1.0, 1.0, 1.0, 1.0, 1.3333333333333333, 1.3333333333333333, 1.3333333333333333, 1.3333333333333333, 1.0, 1.0, 1.0, 1.3333333333333333, 1.0, 1.3333333333333333, 1.0, 1.0, 1.0, 1.0, 1.3333333333333333, 1.0, 1.0, 1.0, 1.6666666666666667, 1.0, 1.0, 1.0, 1.0, 1.0, 1.0, 1.3333333333333333, 1.0, 1.0, 1.3333333333333333, 1.0, 1.0, 1.0, 1.0, 1.6666666666666667, 1.0]\n",
            "60\n",
            "61\n",
            "62\n",
            "63\n",
            "64\n",
            "ratio 3 =  [1.0, 1.0, 1.3333333333333333, 1.0, 1.3333333333333333, 1.0, 1.0, 1.0, 1.0, 1.0, 1.0, 1.0, 1.0, 1.0, 1.0, 1.3333333333333333, 1.0, 1.0, 1.0, 1.0, 1.0, 1.0, 1.0, 1.0, 1.3333333333333333, 1.3333333333333333, 1.3333333333333333, 1.3333333333333333, 1.0, 1.0, 1.0, 1.3333333333333333, 1.0, 1.3333333333333333, 1.0, 1.0, 1.0, 1.0, 1.3333333333333333, 1.0, 1.0, 1.0, 1.6666666666666667, 1.0, 1.0, 1.0, 1.0, 1.0, 1.0, 1.3333333333333333, 1.0, 1.0, 1.3333333333333333, 1.0, 1.0, 1.0, 1.0, 1.6666666666666667, 1.0, 1.0, 1.0, 1.0, 1.0, 1.0]\n",
            "65\n",
            "66\n",
            "67\n",
            "68\n",
            "69\n",
            "ratio 3 =  [1.0, 1.0, 1.3333333333333333, 1.0, 1.3333333333333333, 1.0, 1.0, 1.0, 1.0, 1.0, 1.0, 1.0, 1.0, 1.0, 1.0, 1.3333333333333333, 1.0, 1.0, 1.0, 1.0, 1.0, 1.0, 1.0, 1.0, 1.3333333333333333, 1.3333333333333333, 1.3333333333333333, 1.3333333333333333, 1.0, 1.0, 1.0, 1.3333333333333333, 1.0, 1.3333333333333333, 1.0, 1.0, 1.0, 1.0, 1.3333333333333333, 1.0, 1.0, 1.0, 1.6666666666666667, 1.0, 1.0, 1.0, 1.0, 1.0, 1.0, 1.3333333333333333, 1.0, 1.0, 1.3333333333333333, 1.0, 1.0, 1.0, 1.0, 1.6666666666666667, 1.0, 1.0, 1.0, 1.0, 1.0, 1.0, 1.0, 1.0, 1.3333333333333333, 1.0, 1.3333333333333333]\n",
            "70\n",
            "71\n",
            "72\n",
            "73\n",
            "74\n",
            "ratio 3 =  [1.0, 1.0, 1.3333333333333333, 1.0, 1.3333333333333333, 1.0, 1.0, 1.0, 1.0, 1.0, 1.0, 1.0, 1.0, 1.0, 1.0, 1.3333333333333333, 1.0, 1.0, 1.0, 1.0, 1.0, 1.0, 1.0, 1.0, 1.3333333333333333, 1.3333333333333333, 1.3333333333333333, 1.3333333333333333, 1.0, 1.0, 1.0, 1.3333333333333333, 1.0, 1.3333333333333333, 1.0, 1.0, 1.0, 1.0, 1.3333333333333333, 1.0, 1.0, 1.0, 1.6666666666666667, 1.0, 1.0, 1.0, 1.0, 1.0, 1.0, 1.3333333333333333, 1.0, 1.0, 1.3333333333333333, 1.0, 1.0, 1.0, 1.0, 1.6666666666666667, 1.0, 1.0, 1.0, 1.0, 1.0, 1.0, 1.0, 1.0, 1.3333333333333333, 1.0, 1.3333333333333333, 1.0, 1.3333333333333333, 1.6666666666666667, 1.3333333333333333, 1.0]\n",
            "75\n",
            "76\n",
            "77\n",
            "78\n",
            "79\n",
            "ratio 3 =  [1.0, 1.0, 1.3333333333333333, 1.0, 1.3333333333333333, 1.0, 1.0, 1.0, 1.0, 1.0, 1.0, 1.0, 1.0, 1.0, 1.0, 1.3333333333333333, 1.0, 1.0, 1.0, 1.0, 1.0, 1.0, 1.0, 1.0, 1.3333333333333333, 1.3333333333333333, 1.3333333333333333, 1.3333333333333333, 1.0, 1.0, 1.0, 1.3333333333333333, 1.0, 1.3333333333333333, 1.0, 1.0, 1.0, 1.0, 1.3333333333333333, 1.0, 1.0, 1.0, 1.6666666666666667, 1.0, 1.0, 1.0, 1.0, 1.0, 1.0, 1.3333333333333333, 1.0, 1.0, 1.3333333333333333, 1.0, 1.0, 1.0, 1.0, 1.6666666666666667, 1.0, 1.0, 1.0, 1.0, 1.0, 1.0, 1.0, 1.0, 1.3333333333333333, 1.0, 1.3333333333333333, 1.0, 1.3333333333333333, 1.6666666666666667, 1.3333333333333333, 1.0, 1.0, 1.0, 1.0, 1.0, 1.3333333333333333]\n",
            "80\n",
            "81\n",
            "82\n",
            "83\n",
            "84\n",
            "ratio 3 =  [1.0, 1.0, 1.3333333333333333, 1.0, 1.3333333333333333, 1.0, 1.0, 1.0, 1.0, 1.0, 1.0, 1.0, 1.0, 1.0, 1.0, 1.3333333333333333, 1.0, 1.0, 1.0, 1.0, 1.0, 1.0, 1.0, 1.0, 1.3333333333333333, 1.3333333333333333, 1.3333333333333333, 1.3333333333333333, 1.0, 1.0, 1.0, 1.3333333333333333, 1.0, 1.3333333333333333, 1.0, 1.0, 1.0, 1.0, 1.3333333333333333, 1.0, 1.0, 1.0, 1.6666666666666667, 1.0, 1.0, 1.0, 1.0, 1.0, 1.0, 1.3333333333333333, 1.0, 1.0, 1.3333333333333333, 1.0, 1.0, 1.0, 1.0, 1.6666666666666667, 1.0, 1.0, 1.0, 1.0, 1.0, 1.0, 1.0, 1.0, 1.3333333333333333, 1.0, 1.3333333333333333, 1.0, 1.3333333333333333, 1.6666666666666667, 1.3333333333333333, 1.0, 1.0, 1.0, 1.0, 1.0, 1.3333333333333333, 1.0, 1.0, 1.3333333333333333, 1.0, 1.0]\n",
            "85\n",
            "86\n",
            "87\n",
            "88\n",
            "89\n",
            "ratio 3 =  [1.0, 1.0, 1.3333333333333333, 1.0, 1.3333333333333333, 1.0, 1.0, 1.0, 1.0, 1.0, 1.0, 1.0, 1.0, 1.0, 1.0, 1.3333333333333333, 1.0, 1.0, 1.0, 1.0, 1.0, 1.0, 1.0, 1.0, 1.3333333333333333, 1.3333333333333333, 1.3333333333333333, 1.3333333333333333, 1.0, 1.0, 1.0, 1.3333333333333333, 1.0, 1.3333333333333333, 1.0, 1.0, 1.0, 1.0, 1.3333333333333333, 1.0, 1.0, 1.0, 1.6666666666666667, 1.0, 1.0, 1.0, 1.0, 1.0, 1.0, 1.3333333333333333, 1.0, 1.0, 1.3333333333333333, 1.0, 1.0, 1.0, 1.0, 1.6666666666666667, 1.0, 1.0, 1.0, 1.0, 1.0, 1.0, 1.0, 1.0, 1.3333333333333333, 1.0, 1.3333333333333333, 1.0, 1.3333333333333333, 1.6666666666666667, 1.3333333333333333, 1.0, 1.0, 1.0, 1.0, 1.0, 1.3333333333333333, 1.0, 1.0, 1.3333333333333333, 1.0, 1.0, 1.3333333333333333, 1.0, 1.3333333333333333, 1.3333333333333333, 1.0]\n",
            "90\n",
            "91\n",
            "92\n",
            "93\n",
            "94\n",
            "ratio 3 =  [1.0, 1.0, 1.3333333333333333, 1.0, 1.3333333333333333, 1.0, 1.0, 1.0, 1.0, 1.0, 1.0, 1.0, 1.0, 1.0, 1.0, 1.3333333333333333, 1.0, 1.0, 1.0, 1.0, 1.0, 1.0, 1.0, 1.0, 1.3333333333333333, 1.3333333333333333, 1.3333333333333333, 1.3333333333333333, 1.0, 1.0, 1.0, 1.3333333333333333, 1.0, 1.3333333333333333, 1.0, 1.0, 1.0, 1.0, 1.3333333333333333, 1.0, 1.0, 1.0, 1.6666666666666667, 1.0, 1.0, 1.0, 1.0, 1.0, 1.0, 1.3333333333333333, 1.0, 1.0, 1.3333333333333333, 1.0, 1.0, 1.0, 1.0, 1.6666666666666667, 1.0, 1.0, 1.0, 1.0, 1.0, 1.0, 1.0, 1.0, 1.3333333333333333, 1.0, 1.3333333333333333, 1.0, 1.3333333333333333, 1.6666666666666667, 1.3333333333333333, 1.0, 1.0, 1.0, 1.0, 1.0, 1.3333333333333333, 1.0, 1.0, 1.3333333333333333, 1.0, 1.0, 1.3333333333333333, 1.0, 1.3333333333333333, 1.3333333333333333, 1.0, 1.0, 1.0, 1.0, 1.0, 1.0]\n",
            "95\n",
            "96\n",
            "97\n",
            "98\n",
            "99\n",
            "ratio 3 =  [1.0, 1.0, 1.3333333333333333, 1.0, 1.3333333333333333, 1.0, 1.0, 1.0, 1.0, 1.0, 1.0, 1.0, 1.0, 1.0, 1.0, 1.3333333333333333, 1.0, 1.0, 1.0, 1.0, 1.0, 1.0, 1.0, 1.0, 1.3333333333333333, 1.3333333333333333, 1.3333333333333333, 1.3333333333333333, 1.0, 1.0, 1.0, 1.3333333333333333, 1.0, 1.3333333333333333, 1.0, 1.0, 1.0, 1.0, 1.3333333333333333, 1.0, 1.0, 1.0, 1.6666666666666667, 1.0, 1.0, 1.0, 1.0, 1.0, 1.0, 1.3333333333333333, 1.0, 1.0, 1.3333333333333333, 1.0, 1.0, 1.0, 1.0, 1.6666666666666667, 1.0, 1.0, 1.0, 1.0, 1.0, 1.0, 1.0, 1.0, 1.3333333333333333, 1.0, 1.3333333333333333, 1.0, 1.3333333333333333, 1.6666666666666667, 1.3333333333333333, 1.0, 1.0, 1.0, 1.0, 1.0, 1.3333333333333333, 1.0, 1.0, 1.3333333333333333, 1.0, 1.0, 1.3333333333333333, 1.0, 1.3333333333333333, 1.3333333333333333, 1.0, 1.0, 1.0, 1.0, 1.0, 1.0, 1.0, 1.0, 1.0, 1.0, 1.0]\n",
            "---------FOR METHOD 1----------\n",
            "[1.0, 1.0, 1.6666666666666667, 1.3333333333333333, 1.3333333333333333, 1.3333333333333333, 1.3333333333333333, 1.0, 1.0, 1.0, 1.0, 1.3333333333333333, 1.0, 1.3333333333333333, 1.3333333333333333, 1.3333333333333333, 1.0, 1.3333333333333333, 1.3333333333333333, 1.3333333333333333, 1.3333333333333333, 1.0, 1.0, 1.6666666666666667, 1.6666666666666667, 1.3333333333333333, 1.3333333333333333, 1.3333333333333333, 1.0, 1.3333333333333333, 1.3333333333333333, 1.3333333333333333, 1.3333333333333333, 1.3333333333333333, 1.3333333333333333, 1.3333333333333333, 1.0, 1.3333333333333333, 1.6666666666666667, 1.3333333333333333, 1.3333333333333333, 1.3333333333333333, 1.6666666666666667, 1.3333333333333333, 1.0, 1.3333333333333333, 1.0, 1.3333333333333333, 1.3333333333333333, 1.3333333333333333, 1.3333333333333333, 1.0, 1.3333333333333333, 1.0, 1.3333333333333333, 1.0, 1.0, 1.6666666666666667, 1.3333333333333333, 1.0, 1.6666666666666667, 1.0, 1.3333333333333333, 1.3333333333333333, 1.3333333333333333, 1.0, 1.3333333333333333, 1.0, 1.3333333333333333, 1.0, 1.6666666666666667, 1.6666666666666667, 1.6666666666666667, 1.0, 1.0, 1.0, 1.0, 1.0, 1.3333333333333333, 1.3333333333333333, 1.0, 1.3333333333333333, 1.3333333333333333, 1.0, 1.3333333333333333, 1.3333333333333333, 1.0, 1.3333333333333333, 1.6666666666666667, 1.0, 1.0, 1.0, 1.3333333333333333, 1.0, 1.0, 1.0, 1.0, 1.3333333333333333, 1.6666666666666667, 1.3333333333333333]\n",
            "Maximum ratio for method 1 =  1.6666666666666667  and mean =  1.2466666666666668\n",
            "---------FOR METHOD 2----------\n",
            "[1.0, 1.0, 1.3333333333333333, 1.0, 1.3333333333333333, 1.0, 1.0, 1.0, 1.0, 1.0, 1.0, 1.0, 1.0, 1.0, 1.0, 1.3333333333333333, 1.0, 1.0, 1.0, 1.0, 1.0, 1.0, 1.0, 1.0, 1.3333333333333333, 1.3333333333333333, 1.3333333333333333, 1.3333333333333333, 1.0, 1.0, 1.0, 1.3333333333333333, 1.0, 1.3333333333333333, 1.0, 1.0, 1.0, 1.0, 1.3333333333333333, 1.0, 1.0, 1.0, 1.6666666666666667, 1.0, 1.0, 1.0, 1.0, 1.0, 1.0, 1.3333333333333333, 1.0, 1.0, 1.3333333333333333, 1.0, 1.0, 1.0, 1.0, 1.6666666666666667, 1.0, 1.0, 1.0, 1.0, 1.0, 1.0, 1.0, 1.0, 1.3333333333333333, 1.0, 1.3333333333333333, 1.0, 1.3333333333333333, 1.6666666666666667, 1.3333333333333333, 1.0, 1.0, 1.0, 1.0, 1.0, 1.3333333333333333, 1.0, 1.0, 1.3333333333333333, 1.0, 1.0, 1.3333333333333333, 1.0, 1.3333333333333333, 1.3333333333333333, 1.0, 1.0, 1.0, 1.0, 1.0, 1.0, 1.0, 1.0, 1.0, 1.0, 1.0, 1.0]\n",
            "Maximum ratio for method 3 =  1.6666666666666667  and mean =  1.09\n",
            "---------DIFFERENCE 2 - 3 ----------\n",
            "[ 0.          0.          0.33333333  0.33333333  0.          0.33333333\n",
            "  0.33333333  0.          0.          0.          0.          0.33333333\n",
            "  0.          0.33333333  0.33333333  0.          0.          0.33333333\n",
            "  0.33333333  0.33333333  0.33333333  0.          0.          0.66666667\n",
            "  0.33333333  0.          0.          0.          0.          0.33333333\n",
            "  0.33333333  0.          0.33333333  0.          0.33333333  0.33333333\n",
            "  0.          0.33333333  0.33333333  0.33333333  0.33333333  0.33333333\n",
            "  0.          0.33333333  0.          0.33333333  0.          0.33333333\n",
            "  0.33333333  0.          0.33333333  0.          0.          0.\n",
            "  0.33333333  0.          0.          0.          0.33333333  0.\n",
            "  0.66666667  0.          0.33333333  0.33333333  0.33333333  0.\n",
            "  0.          0.          0.          0.          0.33333333  0.\n",
            "  0.33333333  0.          0.          0.          0.          0.\n",
            "  0.          0.33333333  0.          0.          0.33333333  0.\n",
            "  0.          0.33333333 -0.33333333  0.          0.66666667  0.\n",
            "  0.          0.          0.33333333  0.          0.          0.\n",
            "  0.          0.33333333  0.66666667  0.33333333]\n",
            "Maximum difference of ratio =  0.6666666666666667  and mean =  0.15666666666666665\n"
          ]
        }
      ],
      "source": [
        "ratio_method2 = []\n",
        "ratio_method3 = []\n",
        "count = 0\n",
        "for graph in set_of_graphs:\n",
        "  print(count)\n",
        "  count +=1\n",
        "  if count%5==0:\n",
        "    #print(\"ratio 1 = \",ratio_method2)\n",
        "    print(\"ratio 3 = \",ratio_method3)\n",
        "  matrix = nx.to_scipy_sparse_array(graph).todense()\n",
        "  ratio_method2 = get_ratio(ratio_method2,CBIP_method2(n-1,matrix),chromatic_num)\n",
        "  ratio_method3 = get_ratio(ratio_method3,CBIP_method3(n-1,matrix),chromatic_num)\n",
        "print(\"---------FOR METHOD 1----------\")\n",
        "print(ratio_method2)\n",
        "print(\"Maximum ratio for method 1 = \",np.max(np.array(ratio_method2)),\" and mean = \",np.mean(np.array(ratio_method2)))\n",
        "print(\"---------FOR METHOD 2----------\")\n",
        "print(ratio_method3)\n",
        "print(\"Maximum ratio for method 3 = \",np.max(np.array(ratio_method3)),\" and mean = \",np.mean(np.array(ratio_method3)))\n",
        "print(\"---------DIFFERENCE 2 - 3 ----------\")\n",
        "diff = np.array(ratio_method2)-np.array(ratio_method3)\n",
        "print(diff)\n",
        "print(\"Maximum difference of ratio = \",np.max(diff),\" and mean = \",np.mean(diff))\n"
      ]
    },
    {
      "cell_type": "code",
      "execution_count": 22,
      "id": "b18850ba",
      "metadata": {},
      "outputs": [
        {
          "name": "stdout",
          "output_type": "stream",
          "text": [
            "mean for method 2 =  1.2466666666666668  and for method 3 =  1.09\n",
            "STD for method 2 =  0.2191904296369813  and for method 3 =  0.16901676445449623\n"
          ]
        }
      ],
      "source": [
        "print(\"mean for method 2 = \",np.mean(ratio_method2), \" and for method 3 = \",np.mean(ratio_method3))\n",
        "print(\"STD for method 2 = \",np.std(ratio_method2), \" and for method 3 = \",np.std(ratio_method3))"
      ]
    }
  ],
  "metadata": {
    "colab": {
      "collapsed_sections": [
        "75lFjz-2cPSy"
      ],
      "provenance": []
    },
    "gpuClass": "standard",
    "kernelspec": {
      "display_name": "Python 3 (ipykernel)",
      "language": "python",
      "name": "python3"
    },
    "language_info": {
      "codemirror_mode": {
        "name": "ipython",
        "version": 3
      },
      "file_extension": ".py",
      "mimetype": "text/x-python",
      "name": "python",
      "nbconvert_exporter": "python",
      "pygments_lexer": "ipython3",
      "version": "3.9.12"
    }
  },
  "nbformat": 4,
  "nbformat_minor": 5
}
