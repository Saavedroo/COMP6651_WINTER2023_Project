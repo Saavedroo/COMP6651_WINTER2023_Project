{
 "cells": [
  {
   "cell_type": "markdown",
   "metadata": {},
   "source": [
    "# This notebook contains methods to generate sets of graphs given a chromatic number"
   ]
  },
  {
   "cell_type": "code",
   "execution_count": 15,
   "metadata": {
    "id": "L68NZ0CKJ2D0"
   },
   "outputs": [],
   "source": [
    "import networkx as nx\n",
    "import numpy as np\n",
    "import random\n",
    "import matplotlib.pyplot as plt\n",
    "import pickle"
   ]
  },
  {
   "cell_type": "code",
   "execution_count": 16,
   "metadata": {
    "id": "Fdnw2PWWJypd"
   },
   "outputs": [],
   "source": [
    "## YOu need all these methods to create a graph\n",
    "def split(lst, n):\n",
    "    \"\"\"Split a list into exactly n sub-lists, as evenly as possible.\"\"\"\n",
    "    random.shuffle(lst)\n",
    "    ix = np.linspace(0, len(lst), n + 1, dtype=int)\n",
    "    return [lst[i:j] for i, j in zip(ix[:-1], ix[1:])]\n",
    "\n",
    "def get_random_subset(LIST):\n",
    "    k = random.randint(1, len(LIST))\n",
    "    sample = random.sample(set(LIST), k)\n",
    "    return sample\n",
    "\n",
    "def is_vertex_connected_to_set(v, SET, N):\n",
    "    for vertex in SET:\n",
    "        if vertex in N[str(v)]:\n",
    "            return True\n",
    "    return False\n",
    "\n",
    "def store_as_list_of_dicts(filename, graphs):\n",
    "    list_of_dicts = [nx.to_dict_of_dicts(graph) for graph in graphs]\n",
    "    with open(filename, 'wb') as f:\n",
    "        pickle.dump(list_of_dicts, f)\n",
    "\n",
    "def load_list_of_dicts(filename, create_using=nx.Graph):\n",
    "    with open(filename, 'rb') as f:\n",
    "        list_of_dicts = pickle.load(f)\n",
    "    graphs = [create_using(graph) for graph in list_of_dicts]\n",
    "    return graphs\n",
    "\n",
    "def create_k_colorable_graph(n, k, print_sets=False):\n",
    "    V = np.arange(n)\n",
    "    E = []\n",
    "    N = {}\n",
    "    for v in V:\n",
    "        N[str(v)] = []\n",
    "    SETS = split(V, k) # Create k independent subsets\n",
    "    if print_sets:\n",
    "        print(\"Independent sets:\")\n",
    "        for SET in SETS:\n",
    "            print(list(SET), end=\" \")\n",
    "    # Connect each set with every other set\n",
    "    for i in range(len(SETS)):\n",
    "        SET1 = SETS[i]\n",
    "        for j in range(len(SETS)):\n",
    "            if i!=j:\n",
    "                SET2 = SETS[j]\n",
    "                for v1 in SET1:\n",
    "                    # Check that the vertex in SET1 is not already\n",
    "                    # connected to SET2\n",
    "                    if not is_vertex_connected_to_set(v1, SET2, N):\n",
    "                        # If it's not, connect each vertex of SET1 to a\n",
    "                        # random subset of SET2\n",
    "                        SUBSET2 = get_random_subset(SET2)\n",
    "                        for v2 in SUBSET2:\n",
    "                            edge = (v1, v2)\n",
    "                            E.append(edge)\n",
    "                            N[str(v1)].append(v2)\n",
    "                            N[str(v2)].append(v1)\n",
    "    E = set(E)\n",
    "    g = nx.Graph()\n",
    "    g.add_nodes_from(V)\n",
    "    g.add_edges_from(E)\n",
    "    return g, V, E, N\n",
    "\n",
    "\n",
    "def g_generator(Number_of_graphs, numb_vertices, chromatic_num):\n",
    "    cnt = 0\n",
    "    graphs = []\n",
    "    all_sets = []\n",
    "    n = numb_vertices\n",
    "    print(\"Creating {} graphs with {} vertices and a chromatic number of {}.\".format(N,n,chromatic_num))\n",
    "    for cnt in range(Number_of_graphs):\n",
    "        G, _, _, _ = create_k_colorable_graph(numb_vertices,\n",
    "                                              chromatic_num)\n",
    "        graphs.append(G)\n",
    "        \n",
    "    filename = \"k-{}_{}-graphs_{}-vertices.pkl\".format(chromatic_num, Number_of_graphs, numb_vertices)\n",
    "    store_as_list_of_dicts(filename, graphs)\n",
    "    print(\"{} graphs successfuly created!\".format(Number_of_graphs))\n",
    "    return graphs"
   ]
  },
  {
   "cell_type": "markdown",
   "metadata": {},
   "source": [
    "## Generate and print a specific graph"
   ]
  },
  {
   "cell_type": "code",
   "execution_count": 17,
   "metadata": {},
   "outputs": [
    {
     "name": "stdout",
     "output_type": "stream",
     "text": [
      "Independent sets:\n",
      "[1, 2, 4, 6, 3] [5, 7, 0, 9, 8] "
     ]
    },
    {
     "data": {
      "image/png": "[encoded data removed]",
      "text/plain": [
       "<Figure size 640x480 with 1 Axes>"
      ]
     },
     "metadata": {},
     "output_type": "display_data"
    }
   ],
   "source": [
    "n = 10\n",
    "k= 3\n",
    "G, V, E, N = create_k_colorable_graph(10,2, print_sets=True)\n",
    "pos = nx.spring_layout(G)\n",
    "nx.draw_networkx(G,pos)\n",
    "plt.show()"
   ]
  },
  {
   "cell_type": "markdown",
   "metadata": {},
   "source": [
    "## Generate and save a list of graphs with the specified parameters\n",
    "This is commented by default as the size of the files generated grow exponentially"
   ]
  },
  {
   "cell_type": "code",
   "execution_count": 18,
   "metadata": {},
   "outputs": [
    {
     "name": "stdout",
     "output_type": "stream",
     "text": [
      "Creating 100 graphs with 20 vertices and a chromatic number of 2.\n",
      "100 graphs successfuly created!\n"
     ]
    }
   ],
   "source": [
    "N = 100\n",
    "n = 20\n",
    "k = 2\n",
    "# graphs = g_generator(Number_of_graphs=N, numb_vertices=n, chromatic_num=k)"
   ]
  },
  {
   "cell_type": "code",
   "execution_count": null,
   "metadata": {},
   "outputs": [],
   "source": []
  }
 ],
 "metadata": {
  "colab": {
   "provenance": []
  },
  "kernelspec": {
   "display_name": "Python 3 (ipykernel)",
   "language": "python",
   "name": "python3"
  },
  "language_info": {
   "codemirror_mode": {
    "name": "ipython",
    "version": 3
   },
   "file_extension": ".py",
   "mimetype": "text/x-python",
   "name": "python",
   "nbconvert_exporter": "python",
   "pygments_lexer": "ipython3",
   "version": "3.8.16"
  }
 },
 "nbformat": 4,
 "nbformat_minor": 1
}
