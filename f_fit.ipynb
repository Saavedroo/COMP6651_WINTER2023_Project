{
  "nbformat": 4,
  "nbformat_minor": 0,
  "metadata": {
    "colab": {
      "provenance": []
    },
    "kernelspec": {
      "name": "python3",
      "display_name": "Python 3"
    },
    "language_info": {
      "name": "python"
    }
  },
  "cells": [
    {
      "cell_type": "code",
      "source": [
        "import networkx as nx\n",
        "import numpy as np\n",
        "import random\n",
        "import matplotlib.pyplot as plt"
      ],
      "metadata": {
        "id": "L68NZ0CKJ2D0"
      },
      "execution_count": 1,
      "outputs": []
    },
    {
      "cell_type": "code",
      "source": [
        "N = 100\n",
        "n = 100\n",
        "chromatic_num = 2"
      ],
      "metadata": {
        "id": "TSjmOBUTJ28l"
      },
      "execution_count": 2,
      "outputs": []
    },
    {
      "cell_type": "code",
      "source": [
        "def g_generator(Number_of_graphs, numb_vertices, chromatic_num):\n",
        "  cnt = 0\n",
        "  graphs = []\n",
        "  all_ps = []\n",
        "  n = numb_vertices\n",
        "  while(cnt < Number_of_graphs):\n",
        "    ## just to be sure that we are not stuck\n",
        "    if cnt % 10 == 0:\n",
        "      print(\"ok\",cnt)\n",
        "    p1 = random.random()\n",
        "    #logicaly this block is needed! but in practice it is better and faster to ignore that!\n",
        "    while(True):\n",
        "      colors = np.random.randint(chromatic_num, size=n)\n",
        "      unique_integers = np.unique(colors)\n",
        "      if len(unique_integers) == chromatic_num:\n",
        "        break\n",
        "\n",
        "    result = []\n",
        "    for h in unique_integers:    \n",
        "      indices = np.where(colors == h)[0]\n",
        "      random_index = np.random.choice(indices)\n",
        "      result.append(random_index)\n",
        "\n",
        "    #Make the graph exactly K-colorable\n",
        "    G = nx.Graph()\n",
        "    G.add_nodes_from(range(n))\n",
        "    for i in range(chromatic_num):\n",
        "      for j in range(i+1, chromatic_num):\n",
        "              G.add_edge(result[i], result[j])\n",
        "\n",
        "    for i in range(n):\n",
        "        for j in range(i+1,n):  \n",
        "            if random.random() < p1 and colors[i] !=colors[j]:\n",
        "                G.add_edge(i, j)\n",
        "    cnt +=1\n",
        "    graphs.append(G)\n",
        "  return graphs"
      ],
      "metadata": {
        "id": "Fdnw2PWWJypd"
      },
      "execution_count": 3,
      "outputs": []
    },
    {
      "cell_type": "code",
      "source": [
        "all_graphs = g_generator(N, n, chromatic_num)"
      ],
      "metadata": {
        "id": "NQ5hBYwsJ939",
        "colab": {
          "base_uri": "https://localhost:8080/"
        },
        "outputId": "c3d6d5a9-6d1f-45c3-a0db-ca4ce8b44361"
      },
      "execution_count": 4,
      "outputs": [
        {
          "output_type": "stream",
          "name": "stdout",
          "text": [
            "ok 0\n",
            "ok 10\n",
            "ok 20\n",
            "ok 30\n",
            "ok 40\n",
            "ok 50\n",
            "ok 60\n",
            "ok 70\n",
            "ok 80\n",
            "ok 90\n"
          ]
        }
      ]
    },
    {
      "cell_type": "markdown",
      "source": [
        "# Algorithm and test"
      ],
      "metadata": {
        "id": "G5IvQV3NUZEe"
      }
    },
    {
      "cell_type": "code",
      "source": [
        "def reveal_neighbors(adj_list, i):\n",
        "  neighbors = []\n",
        "  for neigh in adj_list[i]:\n",
        "    if neigh < i:\n",
        "      neighbors.append(neigh)\n",
        "  return neighbors"
      ],
      "metadata": {
        "id": "465UMioeF5O3"
      },
      "execution_count": 5,
      "outputs": []
    },
    {
      "cell_type": "code",
      "source": [
        "def find_minimum_integer_not_in_list(lst):\n",
        "    s = set(lst)\n",
        "    i = 1\n",
        "    while i in s:\n",
        "        i += 1\n",
        "    return i"
      ],
      "metadata": {
        "id": "Oke2K5EvcufY"
      },
      "execution_count": 6,
      "outputs": []
    },
    {
      "cell_type": "code",
      "source": [
        "def first_fit(G):\n",
        "  n = len(G.nodes())\n",
        "  adj_list = nx.to_dict_of_lists(G)\n",
        "  color_list = []\n",
        "  for i in range(n):\n",
        "    neighbors_colors = []\n",
        "    neighbors_list_i = reveal_neighbors(adj_list,i)\n",
        "    for j in neighbors_list_i:\n",
        "      neighbors_colors.append(color_list[j])\n",
        "    xx = find_minimum_integer_not_in_list(neighbors_colors)\n",
        "    color_list.append(xx)\n",
        "  return color_list"
      ],
      "metadata": {
        "id": "6X_AgwKfHJqu"
      },
      "execution_count": 7,
      "outputs": []
    },
    {
      "cell_type": "code",
      "source": [
        "ratio_list_ffit = []\n",
        "for i in range(N):\n",
        "  G = all_graphs[i]\n",
        "  ratio_list_ffit.append(max(first_fit(G))/chromatic_num)\n"
      ],
      "metadata": {
        "id": "90VlZEbT7n02"
      },
      "execution_count": 8,
      "outputs": []
    },
    {
      "cell_type": "code",
      "source": [
        "# ratio_list_ffit = []\n",
        "# for i in range(N):\n",
        "#   G = all_graphs[i]\n",
        "#   adj_list = nx.to_dict_of_lists(G)\n",
        "#   ratio_list_ffit.append(max(first_fit(n, adj_list))/chromatic_num)\n"
      ],
      "metadata": {
        "id": "h9qeV-S7HODA"
      },
      "execution_count": 9,
      "outputs": []
    },
    {
      "cell_type": "code",
      "source": [
        "print(\"The maximum ratio is:\",max(ratio_list_ffit))\n",
        "print(\"The ratio's mean is :\",np.mean(np.array(ratio_list_ffit)),\" And the standard deviation is:\",np.std(np.array(ratio_list_ffit)))"
      ],
      "metadata": {
        "colab": {
          "base_uri": "https://localhost:8080/"
        },
        "id": "S-i3pM00HZ_6",
        "outputId": "909c25c0-55f5-4521-f397-c33ebc1f576e"
      },
      "execution_count": 10,
      "outputs": [
        {
          "output_type": "stream",
          "name": "stdout",
          "text": [
            "The maximum ratio is: 4.0\n",
            "The ratio's mean is : 1.74  And the standard deviation is: 0.7920858539325141\n"
          ]
        }
      ]
    },
    {
      "cell_type": "code",
      "source": [
        "# G = all_graphs[0]\n",
        "# # adj_list = nx.to_dict_of_lists(G)\n",
        "# degrees = dict(G.degree())\n",
        "# # Find the degree values\n",
        "# max_degree = max(degrees.values())\n",
        "# min_degree = min(degrees.values())\n",
        "# print(\"Maximum degree of the graph: \", max_degree)\n",
        "# print(\"Minimum degree of the graph: \", min_degree)"
      ],
      "metadata": {
        "id": "PdBABvnVUmUf"
      },
      "execution_count": 11,
      "outputs": []
    }
  ]
}